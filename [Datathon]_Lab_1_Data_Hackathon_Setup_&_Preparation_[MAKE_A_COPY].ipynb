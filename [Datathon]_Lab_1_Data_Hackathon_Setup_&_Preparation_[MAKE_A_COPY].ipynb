{
  "nbformat": 4,
  "nbformat_minor": 0,
  "metadata": {
    "colab": {
      "provenance": [],
      "include_colab_link": true
    },
    "kernelspec": {
      "name": "python3",
      "display_name": "Python 3"
    },
    "language_info": {
      "name": "python"
    }
  },
  "cells": [
    {
      "cell_type": "markdown",
      "metadata": {
        "id": "view-in-github",
        "colab_type": "text"
      },
      "source": [
        "<a href=\"https://colab.research.google.com/github/bahag-hammers/GoogleLab/blob/main/%5BDatathon%5D_Lab_1_Data_Hackathon_Setup_%26_Preparation_%5BMAKE_A_COPY%5D.ipynb\" target=\"_parent\"><img src=\"https://colab.research.google.com/assets/colab-badge.svg\" alt=\"Open In Colab\"/></a>"
      ]
    },
    {
      "cell_type": "markdown",
      "source": [
        "# **Lab 1:** Datathon Preparation\n",
        "This notebooks sets up the enrvironment and prepares the datasets from the original events data\n",
        "\n",
        "**Please copy this CoLab**"
      ],
      "metadata": {
        "id": "_TFkjzedQKR9"
      }
    },
    {
      "cell_type": "markdown",
      "source": [
        "### **Step 1:** Parameters and Authentication\n",
        "Authenticate yourself against Google Cloud Platform. In Colab there is a seperate python lib for that"
      ],
      "metadata": {
        "id": "my-fGMqmNxZM"
      }
    },
    {
      "cell_type": "code",
      "execution_count": null,
      "metadata": {
        "id": "pGwpOfseKFRP"
      },
      "outputs": [],
      "source": [
        "#@title Parameters\n",
        "\n",
        "project_id = \"\" #@param {type:\"string\"}\n",
        "team_name  = \"\" #@param {type:\"string\"}\n",
        "\n",
        "location   = \"us\" #This is necessary as the original dataset is located there.\n",
        "dataset_name = \"datathon_ds_{}\".format(team_name)\n"
      ]
    },
    {
      "cell_type": "code",
      "source": [
        "from google.cloud import bigquery\n",
        "from google.colab import auth\n",
        "auth.authenticate_user()\n",
        "\n",
        "client = bigquery.Client(project=project_id)"
      ],
      "metadata": {
        "id": "IxIxhR9qNb6C"
      },
      "execution_count": null,
      "outputs": []
    },
    {
      "cell_type": "markdown",
      "source": [
        "### **Step 2:** Create the Team Dataset\n",
        "Create a dataset for your team. We do using the command line bq command that is installed in a CoLab."
      ],
      "metadata": {
        "id": "ySL_6DB8N-9W"
      }
    },
    {
      "cell_type": "code",
      "source": [
        "!bq mk --location=$location --dataset $project_id:$dataset_name"
      ],
      "metadata": {
        "id": "Nb-cuRBCNORF"
      },
      "execution_count": null,
      "outputs": []
    },
    {
      "cell_type": "markdown",
      "source": [
        "Let's check if the dataset is existing. Just list all the datasets in the project. We can do this also via the BQ python library:"
      ],
      "metadata": {
        "id": "tE1-FrCdBKIr"
      }
    },
    {
      "cell_type": "code",
      "source": [
        "for dataset in client.list_datasets():\n",
        "  print(dataset.dataset_id)"
      ],
      "metadata": {
        "id": "dDQoJAJKNOXH"
      },
      "execution_count": null,
      "outputs": []
    },
    {
      "cell_type": "markdown",
      "source": [
        "### **Step 3:** Test Access to Raw Dataset\n",
        "Check if the access to the dataset is working properly. This time we use BigQuery magic (pre-installed in CoLab and Vertex Workbenchs) to execute a BigQuery query directly from here:"
      ],
      "metadata": {
        "id": "uKGfZpydBWKD"
      }
    },
    {
      "cell_type": "code",
      "source": [
        "%%bigquery --project $project_id\n",
        "\n",
        "SELECT *\n",
        "FROM `firebase-public-project.analytics_153293282.events_*`\n",
        "LIMIT 3"
      ],
      "metadata": {
        "id": "Ug9Kn9RDOxSM"
      },
      "execution_count": null,
      "outputs": []
    },
    {
      "cell_type": "markdown",
      "source": [
        "### **Step 4:** Data Preparation\n",
        "Now we prepare some Views on top of the dataset. These views already execute some data preparations and feature engineering tasks. We will come back to the details of this later."
      ],
      "metadata": {
        "id": "W-PhQrKZPWEv"
      }
    },
    {
      "cell_type": "markdown",
      "source": [
        "**View 1** analyzes the user and its first and latest appearance."
      ],
      "metadata": {
        "id": "eBlPq0gePa5B"
      }
    },
    {
      "cell_type": "code",
      "source": [
        "#@title Create view user_returninginfo\n",
        "\n",
        "view_id  = \"{}.{}.user_returninginfo\".format(project_id, dataset_name)\n",
        "view     = bigquery.Table(view_id)\n",
        "\n",
        "view.view_query = f'''\n",
        "WITH firstlasttouch AS (\n",
        "    SELECT\n",
        "      user_pseudo_id,\n",
        "      MIN(event_timestamp) AS user_first_engagement,\n",
        "      MAX(event_timestamp) AS user_last_engagement\n",
        "    FROM\n",
        "      `firebase-public-project.analytics_153293282.events_*`\n",
        "    WHERE event_name=\"user_engagement\"\n",
        "    GROUP BY\n",
        "      user_pseudo_id\n",
        "\n",
        "  )\n",
        "  SELECT\n",
        "    user_pseudo_id,\n",
        "    user_first_engagement,\n",
        "    user_last_engagement,\n",
        "    EXTRACT(MONTH from TIMESTAMP_MICROS(user_first_engagement)) as month,\n",
        "    EXTRACT(DAYOFYEAR from TIMESTAMP_MICROS(user_first_engagement)) as julianday,\n",
        "    EXTRACT(DAYOFWEEK from TIMESTAMP_MICROS(user_first_engagement)) as dayofweek,\n",
        "\n",
        "    #add 24 hr to user's first touch\n",
        "    (user_first_engagement + 86400000000) AS ts_24hr_after_first_engagement,\n",
        "\n",
        "#churned = 1 if last_touch within 24 hr of app installation, else 0\n",
        "IF (user_last_engagement < (user_first_engagement + 86400000000),\n",
        "    1,\n",
        "    0 ) AS churned,\n",
        "\n",
        "#bounced = 1 if last_touch within 10 min, else 0\n",
        "IF (user_last_engagement <= (user_first_engagement + 600000000),\n",
        "    1,\n",
        "    0 ) AS bounced,\n",
        "  FROM\n",
        "    firstlasttouch\n",
        "  GROUP BY\n",
        "    1,2,3\n",
        "\n",
        "'''\n",
        "\n",
        "# Create the view\n",
        "view = client.create_table(view, exists_ok=True)\n",
        "print(f\"Created {view.table_type}: {str(view.reference)}\")\n"
      ],
      "metadata": {
        "id": "f2rVqiRjPMhS",
        "cellView": "form"
      },
      "execution_count": null,
      "outputs": []
    },
    {
      "cell_type": "markdown",
      "source": [
        "**View 2** aggregates the demographics of the users."
      ],
      "metadata": {
        "id": "Zz8v_2heeJz5"
      }
    },
    {
      "cell_type": "code",
      "source": [
        "#@title Create view user_demographics\n",
        "\n",
        "view_id  = \"{}.{}.user_demographics\".format(project_id, dataset_name)\n",
        "view     = bigquery.Table(view_id)\n",
        "\n",
        "view.view_query = f'''\n",
        "  WITH first_values AS (\n",
        "      SELECT\n",
        "          user_pseudo_id,\n",
        "          geo.country as country,\n",
        "          device.operating_system as operating_system,\n",
        "          device.language as language,\n",
        "          ROW_NUMBER() OVER (PARTITION BY user_pseudo_id ORDER BY event_timestamp DESC) AS row_num\n",
        "      FROM `firebase-public-project.analytics_153293282.events_*`\n",
        "      WHERE event_name=\"user_engagement\"\n",
        "      )\n",
        "  SELECT * EXCEPT (row_num)\n",
        "  FROM first_values\n",
        "  WHERE row_num = 1\n",
        "'''\n",
        "\n",
        "# Create the view\n",
        "view = client.create_table(view, exists_ok=True)\n",
        "print(f\"Created {view.table_type}: {str(view.reference)}\")\n"
      ],
      "metadata": {
        "cellView": "form",
        "id": "d_ceKGg8PmeC"
      },
      "execution_count": null,
      "outputs": []
    },
    {
      "cell_type": "markdown",
      "source": [
        "**View 3** creates a aggregated user behaviour view"
      ],
      "metadata": {
        "id": "Qlyoq6SoeYCi"
      }
    },
    {
      "cell_type": "code",
      "source": [
        "#@title Create view user_aggregate_behavior\n",
        "\n",
        "view_id  = \"{}.{}.user_aggregate_behavior\".format(project_id, dataset_name)\n",
        "view     = bigquery.Table(view_id)\n",
        "\n",
        "view.view_query = f'''\n",
        "WITH events_first24hr AS (\n",
        "    #select user data only from first 24 hr of using the app\n",
        "    SELECT\n",
        "      e.*\n",
        "    FROM\n",
        "      `firebase-public-project.analytics_153293282.events_*` e\n",
        "    JOIN\n",
        "      {dataset_name}.user_returninginfo r\n",
        "    ON\n",
        "      e.user_pseudo_id = r.user_pseudo_id\n",
        "    WHERE\n",
        "      e.event_timestamp <= r.ts_24hr_after_first_engagement\n",
        "    )\n",
        "SELECT\n",
        "  user_pseudo_id,\n",
        "  SUM(IF(event_name = 'user_engagement', 1, 0)) AS cnt_user_engagement,\n",
        "  SUM(IF(event_name = 'level_start_quickplay', 1, 0)) AS cnt_level_start_quickplay,\n",
        "  SUM(IF(event_name = 'level_end_quickplay', 1, 0)) AS cnt_level_end_quickplay,\n",
        "  SUM(IF(event_name = 'level_complete_quickplay', 1, 0)) AS cnt_level_complete_quickplay,\n",
        "  SUM(IF(event_name = 'level_reset_quickplay', 1, 0)) AS cnt_level_reset_quickplay,\n",
        "  SUM(IF(event_name = 'post_score', 1, 0)) AS cnt_post_score,\n",
        "  SUM(IF(event_name = 'spend_virtual_currency', 1, 0)) AS cnt_spend_virtual_currency,\n",
        "  SUM(IF(event_name = 'ad_reward', 1, 0)) AS cnt_ad_reward,\n",
        "  SUM(IF(event_name = 'challenge_a_friend', 1, 0)) AS cnt_challenge_a_friend,\n",
        "  SUM(IF(event_name = 'completed_5_levels', 1, 0)) AS cnt_completed_5_levels,\n",
        "  SUM(IF(event_name = 'use_extra_steps', 1, 0)) AS cnt_use_extra_steps,\n",
        "FROM\n",
        "  events_first24hr\n",
        "GROUP BY\n",
        "  1\n",
        "'''\n",
        "\n",
        "# Create the view\n",
        "view = client.create_table(view, exists_ok=True)\n",
        "print(f\"Created {view.table_type}: {str(view.reference)}\")"
      ],
      "metadata": {
        "id": "yqOd-a9-ef5T",
        "cellView": "form"
      },
      "execution_count": null,
      "outputs": []
    },
    {
      "cell_type": "markdown",
      "source": [
        "**View 4** combines all the other views into a single flat view for training purposes."
      ],
      "metadata": {
        "id": "7fUIR5f-fK1Y"
      }
    },
    {
      "cell_type": "code",
      "source": [
        "#@title Create view for the full dataset\n",
        "view_id  = \"{}.{}.cc_full_dataset\".format(project_id, dataset_name)\n",
        "view     = bigquery.Table(view_id)\n",
        "\n",
        "view.view_query = f'''\n",
        "\n",
        "  SELECT\n",
        "    dem.*,\n",
        "    IFNULL(beh.cnt_user_engagement, 0) AS cnt_user_engagement,\n",
        "    IFNULL(beh.cnt_level_start_quickplay, 0) AS cnt_level_start_quickplay,\n",
        "    IFNULL(beh.cnt_level_end_quickplay, 0) AS cnt_level_end_quickplay,\n",
        "    IFNULL(beh.cnt_level_complete_quickplay, 0) AS cnt_level_complete_quickplay,\n",
        "    IFNULL(beh.cnt_level_reset_quickplay, 0) AS cnt_level_reset_quickplay,\n",
        "    IFNULL(beh.cnt_post_score, 0) AS cnt_post_score,\n",
        "    IFNULL(beh.cnt_spend_virtual_currency, 0) AS cnt_spend_virtual_currency,\n",
        "    IFNULL(beh.cnt_ad_reward, 0) AS cnt_ad_reward,\n",
        "    IFNULL(beh.cnt_challenge_a_friend, 0) AS cnt_challenge_a_friend,\n",
        "    IFNULL(beh.cnt_completed_5_levels, 0) AS cnt_completed_5_levels,\n",
        "    IFNULL(beh.cnt_use_extra_steps, 0) AS cnt_use_extra_steps,\n",
        "    ret.user_first_engagement,\n",
        "    ret.churned\n",
        "  FROM\n",
        "    {dataset_name}.user_returninginfo ret\n",
        "  LEFT OUTER JOIN\n",
        "    {dataset_name}.user_demographics dem\n",
        "  ON\n",
        "    ret.user_pseudo_id = dem.user_pseudo_id\n",
        "  LEFT OUTER JOIN\n",
        "    {dataset_name}.user_aggregate_behavior beh\n",
        "  ON\n",
        "    ret.user_pseudo_id = beh.user_pseudo_id\n",
        "  WHERE ret.bounced = 0\n",
        "'''\n",
        "\n",
        "# Create the view\n",
        "view = client.create_table(view, exists_ok=True)\n",
        "print(f\"Created {view.table_type}: {str(view.reference)}\")"
      ],
      "metadata": {
        "id": "eJDqeTw-eyll"
      },
      "execution_count": null,
      "outputs": []
    },
    {
      "cell_type": "markdown",
      "source": [
        "## Step 5: Train & Test Split\n",
        "Split the dataset into a train & test dataset using views and a stable algorithm"
      ],
      "metadata": {
        "id": "OIwxF2VkpnS5"
      }
    },
    {
      "cell_type": "code",
      "source": [
        "#@title Create view train_dataset\n",
        "view_id  = \"{}.{}.cc_train_dataset\".format(project_id, dataset_name)\n",
        "view     = bigquery.Table(view_id)\n",
        "\n",
        "view.view_query = f'''\n",
        "\n",
        "  SELECT * FROM {dataset_name}.cc_full_dataset\n",
        "  WHERE ABS(MOD(FARM_FINGERPRINT(user_pseudo_id), 10)) < 8\n",
        "\n",
        "'''\n",
        "\n",
        "# Create the view\n",
        "view = client.create_table(view, exists_ok=True)\n",
        "print(f\"Created {view.table_type}: {str(view.reference)}\")"
      ],
      "metadata": {
        "id": "zM6nK8OPvlDt"
      },
      "execution_count": null,
      "outputs": []
    },
    {
      "cell_type": "code",
      "source": [
        "#@title Create view test dataset\n",
        "view_id  = \"{}.{}.cc_eval_dataset\".format(project_id, dataset_name)\n",
        "view     = bigquery.Table(view_id)\n",
        "\n",
        "view.view_query = f'''\n",
        "\n",
        "  SELECT * FROM {dataset_name}.cc_full_dataset\n",
        "  WHERE ABS(MOD(FARM_FINGERPRINT(user_pseudo_id), 10)) = 8\n",
        "\n",
        "'''\n",
        "\n",
        "# Create the view\n",
        "view = client.create_table(view, exists_ok=True)\n",
        "print(f\"Created {view.table_type}: {str(view.reference)}\")"
      ],
      "metadata": {
        "id": "FEOBLLOcwD9r"
      },
      "execution_count": null,
      "outputs": []
    },
    {
      "cell_type": "markdown",
      "source": [
        "## **Finally**\n",
        "This is the dataset we have prepared now:\n",
        "To remeber: This is how the final training dataset looks like\n",
        "\n",
        "| User Demographic Data | User Behavioral Data | Label\n",
        "| --- | --- | --- |\n",
        "| country | cnt_user_engagement | churned\n",
        "| operating_system | cnt_level_start_quickplay |  |\n",
        "| language | cnt_level_end_quickplay |  |\n",
        "|  |  cnt_level_complete_quickplay |  |\n",
        "|  |  cnt_level_reset_quickplay |  |\n",
        "|  |  cnt_post_score |  |\n",
        "|  |  cnt_spend_virtual_currency |  |\n",
        "|  |  cnt_ad_reward |  |\n",
        "|  |  cnt_challenge_a_friend |  |\n",
        "|  |  cnt_completed_5_levels |  |\n",
        "|  |  cnt_use_extra_steps |  |\n",
        "|  |  user_first_engagement |  |"
      ],
      "metadata": {
        "id": "_ekx264ukc87"
      }
    },
    {
      "cell_type": "markdown",
      "source": [
        "### Cleanup\n",
        "Call this an the entire dataset will be cleaned up"
      ],
      "metadata": {
        "id": "4_vywvaOdhxY"
      }
    },
    {
      "cell_type": "code",
      "source": [
        "# Uncomment this to delete the dataset\n",
        "#!bq rm -f --location=$location --dataset $project_id:$dataset_name"
      ],
      "metadata": {
        "id": "CfO3W6CLdeLy"
      },
      "execution_count": null,
      "outputs": []
    }
  ]
}