{
  "cells": [
    {
      "cell_type": "markdown",
      "metadata": {
        "id": "view-in-github",
        "colab_type": "text"
      },
      "source": [
        "<a href=\"https://colab.research.google.com/github/bahag-hammers/GoogleLab/blob/main/%5BDatathon%5D%C2%A0Lab_2_Data_Exploration_and_BQML_Model_Training_%5BMAKE_A_COPY%5D.ipynb\" target=\"_parent\"><img src=\"https://colab.research.google.com/assets/colab-badge.svg\" alt=\"Open In Colab\"/></a>"
      ]
    },
    {
      "cell_type": "markdown",
      "id": "6693e950-502b-4f4e-aaac-34b44b015bff",
      "metadata": {
        "id": "6693e950-502b-4f4e-aaac-34b44b015bff"
      },
      "source": [
        "# **Lab 2:** Data Exploration and Model Training"
      ]
    },
    {
      "cell_type": "markdown",
      "id": "101df100-8730-4286-9a02-2819e1e0855c",
      "metadata": {
        "id": "101df100-8730-4286-9a02-2819e1e0855c"
      },
      "source": [
        "### **Step 1:** Preparation and Authentication\n",
        "Set the right parameters and authenticate your user."
      ]
    },
    {
      "cell_type": "code",
      "execution_count": null,
      "id": "988eb9c8-1d06-4c2f-8947-2a843177201b",
      "metadata": {
        "id": "988eb9c8-1d06-4c2f-8947-2a843177201b"
      },
      "outputs": [],
      "source": [
        "#@title Parameters\n",
        "\n",
        "project_id = \" hub-datathon-poc-a25d\" #@param {type:\"string\"}\n",
        "team_name  = \"E\" #@param {type:\"string\"}\n",
        "\n",
        "location   = \"us\" #This is currently necessary\n",
        "dataset_name = \"datathon_ds_{}\".format(team_name)"
      ]
    },
    {
      "cell_type": "code",
      "execution_count": null,
      "id": "209ec9e2-e26c-4f02-84ec-206bcb1a3fcb",
      "metadata": {
        "id": "209ec9e2-e26c-4f02-84ec-206bcb1a3fcb"
      },
      "outputs": [],
      "source": [
        "from google.cloud import bigquery\n",
        "from google.cloud.bigquery import Client, QueryJobConfig\n",
        "from google.colab import auth\n",
        "auth.authenticate_user()\n",
        "\n",
        "client = bigquery.Client(project=project_id)"
      ]
    },
    {
      "cell_type": "markdown",
      "metadata": {
        "id": "1jjaJyFyG00m"
      },
      "source": [
        "### **Step 2:** Data Exploration\n",
        "Get a feeling of the data and explore different facets and features"
      ],
      "id": "1jjaJyFyG00m"
    },
    {
      "cell_type": "markdown",
      "id": "4dc1d19a-e397-401d-85b8-5e3f7a441e7f",
      "metadata": {
        "id": "4dc1d19a-e397-401d-85b8-5e3f7a441e7f"
      },
      "source": [
        "To remember: This is how the final training dataset looks like\n",
        "\n",
        "| User Demographic Data | User Behavioral Data | Label\n",
        "| --- | --- | --- |\n",
        "| country | cnt_user_engagement | churned\n",
        "| operating_system | cnt_level_start_quickplay |  |\n",
        "| language | cnt_level_end_quickplay |  |\n",
        "|  |  cnt_level_complete_quickplay |  |\n",
        "|  |  cnt_level_reset_quickplay |  |\n",
        "|  |  cnt_post_score |  |\n",
        "|  |  cnt_spend_virtual_currency |  |\n",
        "|  |  cnt_ad_reward |  |\n",
        "|  |  cnt_challenge_a_friend |  |\n",
        "|  |  cnt_completed_5_levels |  |\n",
        "|  |  cnt_use_extra_steps |  |\n",
        "|  |  user_first_engagement |  | **bold text**"
      ]
    },
    {
      "cell_type": "code",
      "execution_count": null,
      "id": "cf4e64a1-44d3-45ef-b310-5194d987a7c1",
      "metadata": {
        "id": "cf4e64a1-44d3-45ef-b310-5194d987a7c1"
      },
      "outputs": [],
      "source": [
        "query = f\"\"\"SELECT * FROM `{dataset_name}.cc_train_dataset`\"\"\"\n",
        "job = client.query(query)\n",
        "df = job.to_dataframe()\n",
        "df.head()"
      ]
    },
    {
      "cell_type": "code",
      "source": [
        "df.describe(include='all')"
      ],
      "metadata": {
        "id": "N6bPe48HHdiF"
      },
      "id": "N6bPe48HHdiF",
      "execution_count": null,
      "outputs": []
    },
    {
      "cell_type": "code",
      "execution_count": null,
      "id": "dfd30813-76c3-4b69-8e71-3ec148ab9065",
      "metadata": {
        "id": "dfd30813-76c3-4b69-8e71-3ec148ab9065"
      },
      "outputs": [],
      "source": [
        "import matplotlib.pyplot as plt\n",
        "\n",
        "fig, axes = plt.subplots(nrows=1, ncols=2)\n",
        "plt.subplots_adjust(right=2.0)\n",
        "\n",
        "# which country do users belong to?\n",
        "df.country.value_counts(sort=True)[:5].plot(kind='pie',ax=axes[0])\n",
        "# which operating system is widely used?\n",
        "df.operating_system.value_counts().plot(kind='pie', ax=axes[1])"
      ]
    },
    {
      "cell_type": "code",
      "execution_count": null,
      "id": "c0e57848-c796-41f0-a410-541b9a8bc962",
      "metadata": {
        "id": "c0e57848-c796-41f0-a410-541b9a8bc962"
      },
      "outputs": [],
      "source": [
        "# How many users churned?\n",
        "df.churned.value_counts().plot(kind='pie')"
      ]
    },
    {
      "cell_type": "markdown",
      "id": "433e28c9-cd11-418b-8731-61ba2f61660c",
      "metadata": {
        "id": "433e28c9-cd11-418b-8731-61ba2f61660c"
      },
      "source": [
        "## **Step 3:** Train Propensity Churn Model"
      ]
    },
    {
      "cell_type": "markdown",
      "id": "d74ce070-0b26-4aea-b164-231fdbd87322",
      "metadata": {
        "id": "d74ce070-0b26-4aea-b164-231fdbd87322"
      },
      "source": [
        "Which model should we use for our use case?\n",
        "* List of classification [models](https://cloud.google.com/bigquery-ml/docs/reference/standard-sql/bigqueryml-syntax-create-glm) in BQ to explore (Tip: Keep in mind the training time for more complex models ⏰)\n",
        "  *  Logistic Regression\n",
        "  *  Boosted Trees\n",
        "  *  Deep Neural Networks\n",
        "  *  Wide and Deep Networks\n",
        "  *  AutoML tables\n",
        "\n",
        "Feel free to switch the BQ UI to run your queries there.\n",
        "Save your progress by saving your queries through the editor."
      ]
    },
    {
      "cell_type": "markdown",
      "source": [
        "**Now it is your turn to train a model usign BQML !!**\n",
        "Here is an example in the documentation:\n",
        "https://cloud.google.com/bigquery-ml/docs/reference/standard-sql/bigqueryml-syntax-create-glm#training_a_logistic_regression_model_with_specified_weights\n"
      ],
      "metadata": {
        "id": "Jpmc5_QW1MPx"
      },
      "id": "Jpmc5_QW1MPx"
    },
    {
      "cell_type": "code",
      "source": [
        "%%bigquery --project $project_id\n",
        "\n",
        "CREATE MODEL `<model-name>`\n",
        "OPTIONS(MODEL_TYPE='<type>',\n",
        "        INPUT_LABEL_COLS = ['<label>'])\n",
        "AS\n",
        "SELECT * EXCEPT (user_pseudo_id)\n",
        "FROM `<train-dataset>`"
      ],
      "metadata": {
        "id": "5qfOrzcH1SV6"
      },
      "id": "5qfOrzcH1SV6",
      "execution_count": null,
      "outputs": []
    },
    {
      "cell_type": "markdown",
      "source": [
        "### **Feature Engineering**: How about we create new features from the **user_first_engagement** timestamp field?"
      ],
      "metadata": {
        "id": "0fozYGzVCevI"
      },
      "id": "0fozYGzVCevI"
    },
    {
      "cell_type": "markdown",
      "source": [
        "Let's use the [TRANSFORM](https://cloud.google.com/bigquery-ml/docs/bigqueryml-transform) method in BigQuery ML to extract month, day of year, day of week and hour from the **user_first_enagagement** field.\n",
        "\n",
        "Using the TRANSFORM clause, you can specify all preprocessing during model creation. The preprocessing is **automatically** applied during the prediction and evaluation phases of machine learning 😎"
      ],
      "metadata": {
        "id": "VB8pTVxpCqqM"
      },
      "id": "VB8pTVxpCqqM"
    },
    {
      "cell_type": "markdown",
      "source": [
        "Hint: Use the [EXTRACT](https://cloud.google.com/bigquery/docs/reference/standard-sql/date_functions#extract) and [TIMESTAMP_MICROS](https://cloud.google.com/bigquery/docs/reference/standard-sql/timestamp_functions#timestamp_micros) functions"
      ],
      "metadata": {
        "id": "dbMDWh_JC1fa"
      },
      "id": "dbMDWh_JC1fa"
    },
    {
      "cell_type": "code",
      "source": [
        "%%bigquery --project $project_id\n",
        "CREATE MODEL `<model-name>`\n",
        "\n",
        "TRANSFORM(\n",
        "  EXTRACT(<..>) as month,\n",
        "  EXTRACT(<..>) as julianday,\n",
        "  EXTRACT(<..>) as dayofweek,\n",
        "  EXTRACT(<..>) as hour,\n",
        "  * EXCEPT(user_first_engagement, user_pseudo_id)\n",
        ")\n",
        "\n",
        "OPTIONS(MODEL_TYPE='<model-type>',\n",
        "        INPUT_LABEL_COLS = ['<label>'])\n",
        "AS\n",
        "SELECT *\n",
        "FROM `<train-dataset>`"
      ],
      "metadata": {
        "id": "stZXkZ9NC4gx"
      },
      "id": "stZXkZ9NC4gx",
      "execution_count": null,
      "outputs": []
    },
    {
      "cell_type": "markdown",
      "id": "edd5fa1b-0886-4d92-ab7c-32e614af87fc",
      "metadata": {
        "id": "edd5fa1b-0886-4d92-ab7c-32e614af87fc"
      },
      "source": [
        "## Step 5: Evaluate Model"
      ]
    },
    {
      "cell_type": "markdown",
      "source": [
        "**Let**'s evaluate our model performance on the previously created evaluation view. Evaluation datasets are a useful way to tune your models accuracy before testing in production."
      ],
      "metadata": {
        "id": "4K58WKckC_-U"
      },
      "id": "4K58WKckC_-U"
    },
    {
      "cell_type": "code",
      "source": [
        "%%bigquery --project $project_id\n",
        "SELECT\n",
        "  *\n",
        "FROM\n",
        "  ML.EVALUATE(MODEL `<model-name>`,\n",
        "    (\n",
        "    SELECT * EXCEPT(user_pseudo_id)\n",
        "    FROM\n",
        "      `<eval-dataset>`)\n",
        "    )"
      ],
      "metadata": {
        "id": "uFnloB8bCRpN"
      },
      "id": "uFnloB8bCRpN",
      "execution_count": null,
      "outputs": []
    }
  ],
  "metadata": {
    "kernelspec": {
      "display_name": "Python (Local)",
      "language": "python",
      "name": "local-base"
    },
    "language_info": {
      "codemirror_mode": {
        "name": "ipython",
        "version": 3
      },
      "file_extension": ".py",
      "mimetype": "text/x-python",
      "name": "python",
      "nbconvert_exporter": "python",
      "pygments_lexer": "ipython3",
      "version": "3.7.12"
    },
    "colab": {
      "provenance": [],
      "include_colab_link": true
    }
  },
  "nbformat": 4,
  "nbformat_minor": 5
}